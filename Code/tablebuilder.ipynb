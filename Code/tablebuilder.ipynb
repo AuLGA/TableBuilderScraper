{
 "cells": [
  {
   "cell_type": "code",
   "execution_count": 54,
   "metadata": {},
   "outputs": [],
   "source": [
    "import asyncio\n",
    "from playwright.async_api import async_playwright\n",
    "import time"
   ]
  },
  {
   "cell_type": "code",
   "execution_count": 2,
   "metadata": {},
   "outputs": [],
   "source": [
    "_dataset = \"Australian Census Longitudinal Data\"\n",
    "_table = \"Australian Census Longitudinal Dataset, 2016-2021\""
   ]
  },
  {
   "cell_type": "code",
   "execution_count": 150,
   "metadata": {},
   "outputs": [],
   "source": [
    "import pandas as pd\n",
    "\n",
    "df = pd.read_csv(\"../Data/LGAs.csv\")\n",
    "\n",
    "lgas = df[\"LGA (EN)\"].tolist()"
   ]
  },
  {
   "cell_type": "code",
   "execution_count": null,
   "metadata": {},
   "outputs": [],
   "source": [
    "constant_vars = {\n",
    "    \"var1\": {\n",
    "        \"subdirs\" : [\"2016\", \"2016 Person\", \"2016 Voluntary and Unpaid work\"],\n",
    "        \"name\" : \"Unpaid Child Care in 2016\",\n",
    "        \"level\" : \"Unpaid Child Care in 2016\",\n",
    "        \"add to\" : \"Row\"\n",
    "   }\n",
    "}"
   ]
  },
  {
   "cell_type": "code",
   "execution_count": 51,
   "metadata": {},
   "outputs": [],
   "source": [
    "button_titles = {\n",
    "    \"Row\" : \"Add selected items to the table row\",\n",
    "    \"Column\" : \"Add selected items to the table column\",\n",
    "    \"Wafer\": \"Add selected items to the table wafer\",\n",
    "    \"Filter\": \"Add selected items to the table filter\"\n",
    "}"
   ]
  },
  {
   "cell_type": "code",
   "execution_count": null,
   "metadata": {},
   "outputs": [],
   "source": [
    "playwright = await async_playwright().start()\n",
    "browser = await playwright.chromium.launch(headless=False)\n",
    "page = await browser.new_page()\n",
    "await page.goto('https://tablebuilder.abs.gov.au/webapi/jsf/login.xhtml')\n",
    "\n",
    "await page.get_by_label(\"User ID is a number:\").fill(\"1234567\")\n",
    "await page.get_by_label(\"Password:\").fill(\"Yfddfdfdfdfd\")\n",
    "await page.get_by_role(\"button\", name=\"Log in\").click()\n",
    "\n",
    "#await page.locator(\"//*[contains(@class, 'treeNodeElement')]\", has = page.get_by_title(_dataset)).locator(\"//*[contains(@class, 'treeNodeExpander collapsed')]\").click()\n",
    "#await page.get_by_title(_table).dblclick()\n",
    "\n",
    "#await page.wait_for_load_state()\n",
    "\n",
    "\n",
    "#|//*[contains(@class, 'treeNodeExpander expanded')]"
   ]
  },
  {
   "cell_type": "code",
   "execution_count": null,
   "metadata": {},
   "outputs": [],
   "source": []
  },
  {
   "cell_type": "code",
   "execution_count": 133,
   "metadata": {},
   "outputs": [],
   "source": [
    "iterable_var = {\n",
    "    \"subdirs\" : [\"Geographical Areas (Enumeration)\"],\n",
    "    \"name\" : \"Local Government Areas (2022 Boundaries) (EN)\",\n",
    "    \"level\" : \"LGA (EN)\",\n",
    "    \"add to\" : \"Filter\"\n",
    "}"
   ]
  },
  {
   "cell_type": "code",
   "execution_count": 154,
   "metadata": {},
   "outputs": [],
   "source": [
    "await page.get_by_text(\"Collapse all\").click()\n",
    "\n",
    "subdirs = iterable_var[\"subdirs\"].copy()\n",
    "\n",
    "for subdir in subdirs:\n",
    "    await page.get_by_title(subdir).click()\n",
    "    await page.get_by_title(subdir).click()\n",
    "    #await page.locator(\"//*[contains(@class, 'treeNodeElement')]\", has = page.get_by_title(subdir)).locator(\"//*[contains(@class, 'treeNodeExpander collapsed')]\").click()\n",
    "    #await page.locator(\"//*[contains(@class, 'treeNodeElement')]\", has = page.get_by_title(subdir)).locator(\"//*[contains(@class, 'treeNodeExpander collapsed')]\").click()"
   ]
  },
  {
   "cell_type": "code",
   "execution_count": 153,
   "metadata": {},
   "outputs": [],
   "source": [
    "#await page.locator(\"//*[contains(@class, 'treeNodeElement')]\", has = page.get_by_title(iterable_var[\"name\"], exact=True)).locator(\"//*[contains(@class, 'treeNodeExpander collapsed')]\").click()\n",
    "#await page.locator(\"//*[contains(@class, 'treeNodeElement')]\", has = page.get_by_title(iterable_var[\"name\"], exact=True)).locator(\"//*[contains(@class, 'treeNodeExpander collapsed')]\").click()"
   ]
  },
  {
   "cell_type": "code",
   "execution_count": 155,
   "metadata": {},
   "outputs": [],
   "source": [
    "await page.locator(\"//*[contains(@class, 'treeNodeElement')]\", has = page.get_by_title(iterable_var[\"name\"], exact=True)).locator(\"//*[contains(@class, 'treeNodeExpander collapsed')]\").click()"
   ]
  },
  {
   "cell_type": "code",
   "execution_count": 157,
   "metadata": {},
   "outputs": [],
   "source": [
    "lga0 = [lgas[0]]"
   ]
  },
  {
   "cell_type": "code",
   "execution_count": 165,
   "metadata": {},
   "outputs": [],
   "source": [
    "states = [\"New South Wales\", \"Victoria\", \"Queensland\", \"South Australia\", \"Western Australia\", \"Tasmania\", \"Northern Territory\", \"Australian Capital Territory\"]"
   ]
  },
  {
   "cell_type": "code",
   "execution_count": 166,
   "metadata": {},
   "outputs": [
    {
     "ename": "TimeoutError",
     "evalue": "Locator.click: Timeout 30000ms exceeded.\nCall log:\n  - waiting for get_by_title(\"Add selected items to the table filter\")\n  -     - locator resolved to <input type=\"submit\" value=\"Filter\" disabled=\"disabled\" id=\"buttonForm:addS\" name=\"buttonForm:addS\" class=\"inactiveButton\" onclick=\"return false;\" title=\"Add selected items to the table filter\"/>\n  -   - attempting click action\n  -     2 × waiting for element to be visible, enabled and stable\n  -       - element is not enabled\n  -     - retrying click action\n  -     - waiting 20ms\n  -     - waiting for element to be visible, enabled and stable\n  -   - element was detached from the DOM, retrying\n  -     - locator resolved to <input type=\"submit\" value=\"Filter\" disabled=\"disabled\" id=\"buttonForm:addS\" name=\"buttonForm:addS\" class=\"inactiveButton\" onclick=\"return false;\" title=\"Add selected items to the table filter\"/>\n  -   - attempting click action\n  -     2 × waiting for element to be visible, enabled and stable\n  -       - element is not enabled\n  -     - retrying click action\n  -     - waiting 20ms\n  -     2 × waiting for element to be visible, enabled and stable\n  -       - element is not enabled\n  -     - retrying click action\n  -       - waiting 100ms\n  -     42 × waiting for element to be visible, enabled and stable\n  -        - element is not enabled\n  -      - retrying click action\n  -        - waiting 500ms\n  -   - element was detached from the DOM, retrying\n",
     "output_type": "error",
     "traceback": [
      "\u001b[0;31m---------------------------------------------------------------------------\u001b[0m",
      "\u001b[0;31mTimeoutError\u001b[0m                              Traceback (most recent call last)",
      "Cell \u001b[0;32mIn[166], line 7\u001b[0m\n\u001b[1;32m      3\u001b[0m     \u001b[38;5;28;01mawait\u001b[39;00m page\u001b[38;5;241m.\u001b[39mlocator(\u001b[38;5;124m\"\u001b[39m\u001b[38;5;124m//*[contains(@class, \u001b[39m\u001b[38;5;124m'\u001b[39m\u001b[38;5;124mtreeNodeElement\u001b[39m\u001b[38;5;124m'\u001b[39m\u001b[38;5;124m)]\u001b[39m\u001b[38;5;124m\"\u001b[39m, has \u001b[38;5;241m=\u001b[39m page\u001b[38;5;241m.\u001b[39mget_by_title(state))\u001b[38;5;241m.\u001b[39mlocator(\u001b[38;5;124m\"\u001b[39m\u001b[38;5;124m//*[contains(@class, \u001b[39m\u001b[38;5;124m'\u001b[39m\u001b[38;5;124mtreeNodeExpander collapsed\u001b[39m\u001b[38;5;124m'\u001b[39m\u001b[38;5;124m)]\u001b[39m\u001b[38;5;124m\"\u001b[39m)\u001b[38;5;241m.\u001b[39mclick()\n\u001b[1;32m      5\u001b[0m \u001b[38;5;28;01mawait\u001b[39;00m page\u001b[38;5;241m.\u001b[39mlocator(\u001b[38;5;124m\"\u001b[39m\u001b[38;5;124m//*[contains(@class, \u001b[39m\u001b[38;5;124m'\u001b[39m\u001b[38;5;124mtreeNodeElementBody\u001b[39m\u001b[38;5;124m'\u001b[39m\u001b[38;5;124m)]\u001b[39m\u001b[38;5;124m\"\u001b[39m, has \u001b[38;5;241m=\u001b[39m page\u001b[38;5;241m.\u001b[39mget_by_title(lga))\u001b[38;5;241m.\u001b[39mlocator(\u001b[38;5;124m\"\u001b[39m\u001b[38;5;124m//*[contains(@type, \u001b[39m\u001b[38;5;124m'\u001b[39m\u001b[38;5;124mcheckbox\u001b[39m\u001b[38;5;124m'\u001b[39m\u001b[38;5;124m)]\u001b[39m\u001b[38;5;124m\"\u001b[39m)\u001b[38;5;241m.\u001b[39mcheck()\n\u001b[0;32m----> 7\u001b[0m \u001b[38;5;28;01mawait\u001b[39;00m page\u001b[38;5;241m.\u001b[39mget_by_title(button_titles[iterable_var[\u001b[38;5;124m\"\u001b[39m\u001b[38;5;124madd to\u001b[39m\u001b[38;5;124m\"\u001b[39m]])\u001b[38;5;241m.\u001b[39mclick()\n\u001b[1;32m      9\u001b[0m \u001b[38;5;28;01mawait\u001b[39;00m page\u001b[38;5;241m.\u001b[39mwait_for_load_state()\n\u001b[1;32m     11\u001b[0m \u001b[38;5;28;01mawait\u001b[39;00m page\u001b[38;5;241m.\u001b[39mlocator(\u001b[38;5;124m\"\u001b[39m\u001b[38;5;124m//*[contains(@class, \u001b[39m\u001b[38;5;124m'\u001b[39m\u001b[38;5;124mdownloadButton activeButton\u001b[39m\u001b[38;5;124m'\u001b[39m\u001b[38;5;124m)]\u001b[39m\u001b[38;5;124m\"\u001b[39m)\u001b[38;5;241m.\u001b[39mclick()\n",
      "File \u001b[0;32m~/miniforge3/envs/web/lib/python3.13/site-packages/playwright/async_api/_generated.py:15398\u001b[0m, in \u001b[0;36mLocator.click\u001b[0;34m(self, modifiers, position, delay, button, click_count, timeout, force, no_wait_after, trial)\u001b[0m\n\u001b[1;32m  15317\u001b[0m \u001b[38;5;28;01masync\u001b[39;00m \u001b[38;5;28;01mdef\u001b[39;00m \u001b[38;5;21mclick\u001b[39m(\n\u001b[1;32m  15318\u001b[0m     \u001b[38;5;28mself\u001b[39m,\n\u001b[1;32m  15319\u001b[0m     \u001b[38;5;241m*\u001b[39m,\n\u001b[0;32m   (...)\u001b[0m\n\u001b[1;32m  15330\u001b[0m     trial: typing\u001b[38;5;241m.\u001b[39mOptional[\u001b[38;5;28mbool\u001b[39m] \u001b[38;5;241m=\u001b[39m \u001b[38;5;28;01mNone\u001b[39;00m,\n\u001b[1;32m  15331\u001b[0m ) \u001b[38;5;241m-\u001b[39m\u001b[38;5;241m>\u001b[39m \u001b[38;5;28;01mNone\u001b[39;00m:\n\u001b[1;32m  15332\u001b[0m \u001b[38;5;250m    \u001b[39m\u001b[38;5;124;03m\"\"\"Locator.click\u001b[39;00m\n\u001b[1;32m  15333\u001b[0m \n\u001b[1;32m  15334\u001b[0m \u001b[38;5;124;03m    Click an element.\u001b[39;00m\n\u001b[0;32m   (...)\u001b[0m\n\u001b[1;32m  15394\u001b[0m \u001b[38;5;124;03m        are pressed.\u001b[39;00m\n\u001b[1;32m  15395\u001b[0m \u001b[38;5;124;03m    \"\"\"\u001b[39;00m\n\u001b[1;32m  15397\u001b[0m     \u001b[38;5;28;01mreturn\u001b[39;00m mapping\u001b[38;5;241m.\u001b[39mfrom_maybe_impl(\n\u001b[0;32m> 15398\u001b[0m         \u001b[38;5;28;01mawait\u001b[39;00m \u001b[38;5;28mself\u001b[39m\u001b[38;5;241m.\u001b[39m_impl_obj\u001b[38;5;241m.\u001b[39mclick(\n\u001b[1;32m  15399\u001b[0m             modifiers\u001b[38;5;241m=\u001b[39mmapping\u001b[38;5;241m.\u001b[39mto_impl(modifiers),\n\u001b[1;32m  15400\u001b[0m             position\u001b[38;5;241m=\u001b[39mposition,\n\u001b[1;32m  15401\u001b[0m             delay\u001b[38;5;241m=\u001b[39mdelay,\n\u001b[1;32m  15402\u001b[0m             button\u001b[38;5;241m=\u001b[39mbutton,\n\u001b[1;32m  15403\u001b[0m             clickCount\u001b[38;5;241m=\u001b[39mclick_count,\n\u001b[1;32m  15404\u001b[0m             timeout\u001b[38;5;241m=\u001b[39mtimeout,\n\u001b[1;32m  15405\u001b[0m             force\u001b[38;5;241m=\u001b[39mforce,\n\u001b[1;32m  15406\u001b[0m             noWaitAfter\u001b[38;5;241m=\u001b[39mno_wait_after,\n\u001b[1;32m  15407\u001b[0m             trial\u001b[38;5;241m=\u001b[39mtrial,\n\u001b[1;32m  15408\u001b[0m         )\n\u001b[1;32m  15409\u001b[0m     )\n",
      "File \u001b[0;32m~/miniforge3/envs/web/lib/python3.13/site-packages/playwright/_impl/_locator.py:156\u001b[0m, in \u001b[0;36mLocator.click\u001b[0;34m(self, modifiers, position, delay, button, clickCount, timeout, force, noWaitAfter, trial)\u001b[0m\n\u001b[1;32m    143\u001b[0m \u001b[38;5;28;01masync\u001b[39;00m \u001b[38;5;28;01mdef\u001b[39;00m \u001b[38;5;21mclick\u001b[39m(\n\u001b[1;32m    144\u001b[0m     \u001b[38;5;28mself\u001b[39m,\n\u001b[1;32m    145\u001b[0m     modifiers: Sequence[KeyboardModifier] \u001b[38;5;241m=\u001b[39m \u001b[38;5;28;01mNone\u001b[39;00m,\n\u001b[0;32m   (...)\u001b[0m\n\u001b[1;32m    153\u001b[0m     trial: \u001b[38;5;28mbool\u001b[39m \u001b[38;5;241m=\u001b[39m \u001b[38;5;28;01mNone\u001b[39;00m,\n\u001b[1;32m    154\u001b[0m ) \u001b[38;5;241m-\u001b[39m\u001b[38;5;241m>\u001b[39m \u001b[38;5;28;01mNone\u001b[39;00m:\n\u001b[1;32m    155\u001b[0m     params \u001b[38;5;241m=\u001b[39m locals_to_params(\u001b[38;5;28mlocals\u001b[39m())\n\u001b[0;32m--> 156\u001b[0m     \u001b[38;5;28;01mreturn\u001b[39;00m \u001b[38;5;28;01mawait\u001b[39;00m \u001b[38;5;28mself\u001b[39m\u001b[38;5;241m.\u001b[39m_frame\u001b[38;5;241m.\u001b[39mclick(\u001b[38;5;28mself\u001b[39m\u001b[38;5;241m.\u001b[39m_selector, strict\u001b[38;5;241m=\u001b[39m\u001b[38;5;28;01mTrue\u001b[39;00m, \u001b[38;5;241m*\u001b[39m\u001b[38;5;241m*\u001b[39mparams)\n",
      "File \u001b[0;32m~/miniforge3/envs/web/lib/python3.13/site-packages/playwright/_impl/_frame.py:488\u001b[0m, in \u001b[0;36mFrame.click\u001b[0;34m(self, selector, modifiers, position, delay, button, clickCount, timeout, force, noWaitAfter, strict, trial)\u001b[0m\n\u001b[1;32m    474\u001b[0m \u001b[38;5;28;01masync\u001b[39;00m \u001b[38;5;28;01mdef\u001b[39;00m \u001b[38;5;21mclick\u001b[39m(\n\u001b[1;32m    475\u001b[0m     \u001b[38;5;28mself\u001b[39m,\n\u001b[1;32m    476\u001b[0m     selector: \u001b[38;5;28mstr\u001b[39m,\n\u001b[0;32m   (...)\u001b[0m\n\u001b[1;32m    486\u001b[0m     trial: \u001b[38;5;28mbool\u001b[39m \u001b[38;5;241m=\u001b[39m \u001b[38;5;28;01mNone\u001b[39;00m,\n\u001b[1;32m    487\u001b[0m ) \u001b[38;5;241m-\u001b[39m\u001b[38;5;241m>\u001b[39m \u001b[38;5;28;01mNone\u001b[39;00m:\n\u001b[0;32m--> 488\u001b[0m     \u001b[38;5;28;01mawait\u001b[39;00m \u001b[38;5;28mself\u001b[39m\u001b[38;5;241m.\u001b[39m_channel\u001b[38;5;241m.\u001b[39msend(\u001b[38;5;124m\"\u001b[39m\u001b[38;5;124mclick\u001b[39m\u001b[38;5;124m\"\u001b[39m, locals_to_params(\u001b[38;5;28mlocals\u001b[39m()))\n",
      "File \u001b[0;32m~/miniforge3/envs/web/lib/python3.13/site-packages/playwright/_impl/_connection.py:61\u001b[0m, in \u001b[0;36mChannel.send\u001b[0;34m(self, method, params)\u001b[0m\n\u001b[1;32m     60\u001b[0m \u001b[38;5;28;01masync\u001b[39;00m \u001b[38;5;28;01mdef\u001b[39;00m \u001b[38;5;21msend\u001b[39m(\u001b[38;5;28mself\u001b[39m, method: \u001b[38;5;28mstr\u001b[39m, params: Dict \u001b[38;5;241m=\u001b[39m \u001b[38;5;28;01mNone\u001b[39;00m) \u001b[38;5;241m-\u001b[39m\u001b[38;5;241m>\u001b[39m Any:\n\u001b[0;32m---> 61\u001b[0m     \u001b[38;5;28;01mreturn\u001b[39;00m \u001b[38;5;28;01mawait\u001b[39;00m \u001b[38;5;28mself\u001b[39m\u001b[38;5;241m.\u001b[39m_connection\u001b[38;5;241m.\u001b[39mwrap_api_call(\n\u001b[1;32m     62\u001b[0m         \u001b[38;5;28;01mlambda\u001b[39;00m: \u001b[38;5;28mself\u001b[39m\u001b[38;5;241m.\u001b[39m_inner_send(method, params, \u001b[38;5;28;01mFalse\u001b[39;00m),\n\u001b[1;32m     63\u001b[0m         \u001b[38;5;28mself\u001b[39m\u001b[38;5;241m.\u001b[39m_is_internal_type,\n\u001b[1;32m     64\u001b[0m     )\n",
      "File \u001b[0;32m~/miniforge3/envs/web/lib/python3.13/site-packages/playwright/_impl/_connection.py:528\u001b[0m, in \u001b[0;36mConnection.wrap_api_call\u001b[0;34m(self, cb, is_internal)\u001b[0m\n\u001b[1;32m    526\u001b[0m     \u001b[38;5;28;01mreturn\u001b[39;00m \u001b[38;5;28;01mawait\u001b[39;00m cb()\n\u001b[1;32m    527\u001b[0m \u001b[38;5;28;01mexcept\u001b[39;00m \u001b[38;5;167;01mException\u001b[39;00m \u001b[38;5;28;01mas\u001b[39;00m error:\n\u001b[0;32m--> 528\u001b[0m     \u001b[38;5;28;01mraise\u001b[39;00m rewrite_error(error, \u001b[38;5;124mf\u001b[39m\u001b[38;5;124m\"\u001b[39m\u001b[38;5;132;01m{\u001b[39;00mparsed_st[\u001b[38;5;124m'\u001b[39m\u001b[38;5;124mapiName\u001b[39m\u001b[38;5;124m'\u001b[39m]\u001b[38;5;132;01m}\u001b[39;00m\u001b[38;5;124m: \u001b[39m\u001b[38;5;132;01m{\u001b[39;00merror\u001b[38;5;132;01m}\u001b[39;00m\u001b[38;5;124m\"\u001b[39m) \u001b[38;5;28;01mfrom\u001b[39;00m \u001b[38;5;28;01mNone\u001b[39;00m\n\u001b[1;32m    529\u001b[0m \u001b[38;5;28;01mfinally\u001b[39;00m:\n\u001b[1;32m    530\u001b[0m     \u001b[38;5;28mself\u001b[39m\u001b[38;5;241m.\u001b[39m_api_zone\u001b[38;5;241m.\u001b[39mset(\u001b[38;5;28;01mNone\u001b[39;00m)\n",
      "\u001b[0;31mTimeoutError\u001b[0m: Locator.click: Timeout 30000ms exceeded.\nCall log:\n  - waiting for get_by_title(\"Add selected items to the table filter\")\n  -     - locator resolved to <input type=\"submit\" value=\"Filter\" disabled=\"disabled\" id=\"buttonForm:addS\" name=\"buttonForm:addS\" class=\"inactiveButton\" onclick=\"return false;\" title=\"Add selected items to the table filter\"/>\n  -   - attempting click action\n  -     2 × waiting for element to be visible, enabled and stable\n  -       - element is not enabled\n  -     - retrying click action\n  -     - waiting 20ms\n  -     - waiting for element to be visible, enabled and stable\n  -   - element was detached from the DOM, retrying\n  -     - locator resolved to <input type=\"submit\" value=\"Filter\" disabled=\"disabled\" id=\"buttonForm:addS\" name=\"buttonForm:addS\" class=\"inactiveButton\" onclick=\"return false;\" title=\"Add selected items to the table filter\"/>\n  -   - attempting click action\n  -     2 × waiting for element to be visible, enabled and stable\n  -       - element is not enabled\n  -     - retrying click action\n  -     - waiting 20ms\n  -     2 × waiting for element to be visible, enabled and stable\n  -       - element is not enabled\n  -     - retrying click action\n  -       - waiting 100ms\n  -     42 × waiting for element to be visible, enabled and stable\n  -        - element is not enabled\n  -      - retrying click action\n  -        - waiting 500ms\n  -   - element was detached from the DOM, retrying\n"
     ]
    }
   ],
   "source": [
    "for lga in lga0:\n",
    "    for state in states:\n",
    "        await page.locator(\"//*[contains(@class, 'treeNodeElement')]\", has = page.get_by_title(state)).locator(\"//*[contains(@class, 'treeNodeExpander collapsed')]\").click()\n",
    "\n",
    "    await page.locator(\"//*[contains(@class, 'treeNodeElementBody')]\", has = page.get_by_title(lga)).locator(\"//*[contains(@type, 'checkbox')]\").check()\n",
    "\n",
    "    await page.get_by_title(button_titles[iterable_var[\"add to\"]]).click()\n",
    "\n",
    "    await page.wait_for_load_state()\n",
    "\n",
    "    await page.locator(\"//*[contains(@class, 'downloadButton activeButton')]\").click()\n",
    "\n",
    "    await page.wait_for_load_state()\n",
    "\n",
    "    await page.locator(\"//*[contains(@class, 'activeTextField')]\").fill(\"LGA_{}\".format(lga))\n",
    "\n",
    "    await page.locator(\"//*[contains(@class, 'activeButton')]\", has = page.get_by_text(\"Queue table\")).click()\n",
    "    \n",
    "    await page.locator(\"//*[contains(@class, 'treeNodeElementBody')]\", has = page.get_by_title(lga)).locator(\"//*[contains(@type, 'checkbox')]\").uncheck()\n",
    "\n",
    "    for state in states:\n",
    "        await page.locator(\"//*[contains(@class, 'treeNodeElement')]\", has = page.get_by_title(state)).locator(\"//*[contains(@class, 'treeNodeExpander expanded')]\").click()\n"
   ]
  },
  {
   "cell_type": "code",
   "execution_count": 164,
   "metadata": {},
   "outputs": [],
   "source": [
    "await page.locator(\"//*[contains(@class, 'treeNodeElementBody')]\", has = page.get_by_title(\"Albury\")).locator(\"//*[contains(@type, 'checkbox')]\").uncheck()"
   ]
  },
  {
   "cell_type": "code",
   "execution_count": null,
   "metadata": {},
   "outputs": [],
   "source": [
    "for var in constant_vars:\n",
    "    #var = \"var1\"\n",
    "    await page.get_by_text(\"Collapse all\").click()\n",
    "    \n",
    "    subdirs = constant_vars[var][\"subdirs\"].copy()\n",
    "\n",
    "    for subdir in subdirs:\n",
    "        #await page.get_by_title(subdir).click()\n",
    "        await page.locator(\"//*[contains(@class, 'treeNodeElement')]\", has = page.get_by_title(subdir)).locator(\"//*[contains(@class, 'treeNodeExpander collapsed')]\").click()\n",
    "\n",
    "    await page.locator(\"//*[contains(@class, 'treeNodeElement')]\", has = page.get_by_title(constant_vars[var][\"name\"])).locator(\"//*[contains(@class, 'levelSelectButton')]\").click()\n",
    "    #await page.locator(\"//*[contains(@class, 'treeNodeElement')]\", has = page.get_by_title(constant_vars[var][\"name\"])).locator(\"//*[contains(@class, 'levelSelectButton')]\").click()\n",
    "\n",
    "    await page.locator(\"//*[contains(@class, 'levelSelectList')]\", has = page.get_by_text(constant_vars[var][\"level\"])).get_by_text(constant_vars[var][\"level\"]).click()\n",
    "\n",
    "    await page.get_by_title(button_titles[constant_vars[var][\"add to\"]]).click()\n",
    "\n",
    "    await page.wait_for_load_state()\n",
    "\n",
    "    await page.get_by_text(\"Untick all\").click()\n",
    "\n",
    "    await page.get_by_text(\"Collapse all\").click()"
   ]
  },
  {
   "cell_type": "code",
   "execution_count": null,
   "metadata": {},
   "outputs": [],
   "source": []
  },
  {
   "cell_type": "code",
   "execution_count": null,
   "metadata": {},
   "outputs": [],
   "source": []
  }
 ],
 "metadata": {
  "kernelspec": {
   "display_name": "web",
   "language": "python",
   "name": "python3"
  },
  "language_info": {
   "codemirror_mode": {
    "name": "ipython",
    "version": 3
   },
   "file_extension": ".py",
   "mimetype": "text/x-python",
   "name": "python",
   "nbconvert_exporter": "python",
   "pygments_lexer": "ipython3",
   "version": "3.13.0"
  }
 },
 "nbformat": 4,
 "nbformat_minor": 2
}
