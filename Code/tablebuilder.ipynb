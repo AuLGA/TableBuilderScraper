{
 "cells": [
  {
   "cell_type": "code",
   "execution_count": 1,
   "metadata": {},
   "outputs": [
    {
     "data": {
      "text/plain": [
       "True"
      ]
     },
     "execution_count": 1,
     "metadata": {},
     "output_type": "execute_result"
    }
   ],
   "source": [
    "import asyncio\n",
    "from playwright.async_api import async_playwright, expect\n",
    "import time\n",
    "\n",
    "import os\n",
    "from dotenv import load_dotenv\n",
    "\n",
    "import random\n",
    "\n",
    "load_dotenv()"
   ]
  },
  {
   "cell_type": "code",
   "execution_count": 2,
   "metadata": {},
   "outputs": [],
   "source": [
    "import pandas as pd\n",
    "\n",
    "df = pd.read_csv(\"../Data/LGAs.csv\")\n",
    "\n",
    "lgas = df[\"LGA (EN)\"].tolist()"
   ]
  },
  {
   "cell_type": "code",
   "execution_count": 3,
   "metadata": {},
   "outputs": [],
   "source": [
    "button_titles = {\n",
    "    \"Row\" : \"Add selected items to the table row\",\n",
    "    \"Column\" : \"Add selected items to the table column\",\n",
    "    \"Wafer\": \"Add selected items to the table wafer\",\n",
    "    \"Filter\": \"Add selected items to the table filter\"\n",
    "}\n",
    "\n",
    "iterable_var = {\n",
    "    \"subdirs\" : [\"Geographical Areas (Enumeration)\"],\n",
    "    \"name\" : \"Local Government Areas (2022 Boundaries) (EN)\",\n",
    "    \"level\" : \"LGA (EN)\",\n",
    "    \"add to\" : \"Filter\"\n",
    "}\n",
    "\n",
    "table = {\n",
    "    \"subdirs\" : [\"2021 Census of Population and Housing\", \"Census TableBuilder Pro\"],\n",
    "    \"name\" : \"2021 Census - counting persons, place of enumeration\",\n",
    "    \"saved\" : \"base_table\"\n",
    "}\n",
    "\n",
    "const_vars = {}"
   ]
  },
  {
   "cell_type": "code",
   "execution_count": 4,
   "metadata": {},
   "outputs": [],
   "source": [
    "states = [\"New South Wales\", \"Victoria\", \"Queensland\", \"South Australia\", \"Western Australia\", \"Tasmania\", \"Northern Territory\", \"Australian Capital Territory\"]\n",
    "\n",
    "spare = \"SEIFA Deciles (Population-based) WARNING: Population deciles must be used with same geography type\""
   ]
  },
  {
   "cell_type": "code",
   "execution_count": 5,
   "metadata": {},
   "outputs": [],
   "source": [
    "queued = []"
   ]
  },
  {
   "cell_type": "code",
   "execution_count": 6,
   "metadata": {},
   "outputs": [],
   "source": [
    "async def select_const_vars(page):\n",
    "    subdirs = table[\"subdirs\"].copy()\n",
    "\n",
    "    for subdir in subdirs:\n",
    "        await page.locator(\"//*[contains(@class, 'treeNodeElement')]\", has = page.get_by_title(subdir, exact=True)).locator(\"//*[contains(@class, 'treeNodeExpander collapsed')]\").click()\n",
    "\n",
    "    await page.get_by_title(table[\"name\"]).click()\n",
    "\n",
    "    await page.get_by_title(table[\"saved\"]).dblclick()\n",
    "\n",
    "    return "
   ]
  },
  {
   "cell_type": "code",
   "execution_count": null,
   "metadata": {},
   "outputs": [],
   "source": [
    "async def scrape(playwright, lga):\n",
    "    browser = await playwright.chromium.launch(headless=False)\n",
    "    page = await browser.new_page()\n",
    "    await page.goto('https://tablebuilder.abs.gov.au/webapi/jsf/login.xhtml')\n",
    "\n",
    "    await page.get_by_label(\"User ID is a number:\").fill(os.getenv(\"ABS_TABLEBUILDER_USERNAME\"))\n",
    "    await page.get_by_label(\"Password:\").fill(os.getenv(\"ABS_TABLEBUILDER_PASSWORD\"))\n",
    "    await page.get_by_role(\"button\", name=\"Log in\").click()\n",
    "\n",
    "    await page.wait_for_load_state()\n",
    "\n",
    "    await select_const_vars(page)\n",
    "\n",
    "    #await page.wait_for_load_state(time)\n",
    "\n",
    "    await expect(page.locator(\"//*[contains(@id, 'showSchemaPane')]\", has = page.get_by_text(\"Collapse all\"))).to_be_visible(timeout=600_000)\n",
    "\n",
    "    await page.get_by_text(\"Collapse all\").click()\n",
    "\n",
    "    subdirs = iterable_var[\"subdirs\"].copy()\n",
    "\n",
    "    for subdir in subdirs:\n",
    "        await page.get_by_title(subdir).click()\n",
    "        await page.get_by_title(subdir).click()\n",
    "\n",
    "    await page.locator(\"//*[contains(@class, 'treeNodeElement')]\", has = page.get_by_title(iterable_var[\"name\"], exact=True)).locator(\"//*[contains(@class, 'treeNodeExpander collapsed')]\").click()\n",
    "    \n",
    "    for state in states:\n",
    "        await page.locator(\"//*[contains(@class, 'treeNodeElement')]\", has = page.get_by_title(state)).locator(\"//*[contains(@class, 'treeNodeExpander collapsed')]\").click()\n",
    "\n",
    "    await page.locator(\"//*[contains(@class, 'treeNodeElementBody')]\", has = page.get_by_title(lga)).locator(\"//*[contains(@type, 'checkbox')]\").check()\n",
    "\n",
    "    await page.get_by_title(button_titles[iterable_var[\"add to\"]]).click()\n",
    "\n",
    "    await page.wait_for_load_state()\n",
    "\n",
    "    await page.locator(\"//*[contains(@id, 'downloadControl:downloadLargeTableButton')]\").click()\n",
    "\n",
    "    await expect(page.locator(\"//*[contains(@id, 'downloadTableModePanel_shade')]\")).to_be_visible(timeout=600_000)\n",
    "\n",
    "    await page.locator(\"//*[contains(@id, 'downloadTableModeForm:downloadTableNameTxt')]\").fill(\"LGA_{}\".format(lga))\n",
    "\n",
    "    await page.locator(\"//*[contains(@id, 'downloadTableModeForm:queueTableButton')]\", has = page.get_by_text(\"Queue table\")).click()\n",
    "    \n",
    "    await page.wait_for_load_state()\n"
   ]
  },
  {
   "cell_type": "code",
   "execution_count": 8,
   "metadata": {},
   "outputs": [
    {
     "name": "stdout",
     "output_type": "stream",
     "text": [
      "Failed: East Pilbara\n",
      "Locator expected to be visible\n",
      "Actual value: <element(s) not found> \n",
      "Call log:\n",
      "  - LocatorAssertions.to_be_visible with timeout 60000ms\n",
      "  -   - waiting for locator(\"//*[contains(@id, 'showSchemaPane')]\").filter(has=get_by_text(\"Collapse all\"))\n",
      "\n"
     ]
    }
   ],
   "source": [
    "#while len(queued) != 556:\n",
    "lga = random.choice(lgas)\n",
    "\n",
    "#if lga in queued:\n",
    "    #continue\n",
    "\n",
    "playwright = await async_playwright().start()\n",
    "\n",
    "try:\n",
    "    await scrape(playwright, lga)\n",
    "    queued.append(lga)\n",
    "\n",
    "    print(\"Queued: {}\".format(lga))\n",
    "\n",
    "    await playwright.stop()\n",
    "except Exception as e:\n",
    "    print(\"Failed: {}\".format(lga))\n",
    "    print(e)\n",
    "    time.sleep(5) \n",
    "\n",
    "    await playwright.stop()"
   ]
  }
 ],
 "metadata": {
  "kernelspec": {
   "display_name": "web",
   "language": "python",
   "name": "python3"
  },
  "language_info": {
   "codemirror_mode": {
    "name": "ipython",
    "version": 3
   },
   "file_extension": ".py",
   "mimetype": "text/x-python",
   "name": "python",
   "nbconvert_exporter": "python",
   "pygments_lexer": "ipython3",
   "version": "3.13.0"
  }
 },
 "nbformat": 4,
 "nbformat_minor": 2
}
