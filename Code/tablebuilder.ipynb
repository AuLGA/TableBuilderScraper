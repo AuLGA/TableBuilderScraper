{
 "cells": [
  {
   "cell_type": "code",
   "execution_count": 1,
   "metadata": {},
   "outputs": [
    {
     "data": {
      "text/plain": [
       "True"
      ]
     },
     "execution_count": 1,
     "metadata": {},
     "output_type": "execute_result"
    }
   ],
   "source": [
    "import asyncio\n",
    "from playwright.async_api import async_playwright, expect\n",
    "import time\n",
    "\n",
    "import os\n",
    "from dotenv import load_dotenv\n",
    "\n",
    "import random\n",
    "\n",
    "load_dotenv()"
   ]
  },
  {
   "cell_type": "code",
   "execution_count": 2,
   "metadata": {},
   "outputs": [],
   "source": [
    "import pandas as pd\n",
    "\n",
    "df = pd.read_csv(\"../Data/LGAs.csv\")\n",
    "\n",
    "lgas = df[\"LGA (EN)\"].tolist()"
   ]
  },
  {
   "cell_type": "code",
   "execution_count": 3,
   "metadata": {},
   "outputs": [],
   "source": [
    "button_titles = {\n",
    "    \"Row\" : \"Add selected items to the table row\",\n",
    "    \"Column\" : \"Add selected items to the table column\",\n",
    "    \"Wafer\": \"Add selected items to the table wafer\",\n",
    "    \"Filter\": \"Add selected items to the table filter\"\n",
    "}\n",
    "\n",
    "iterable_var = {\n",
    "    \"subdirs\" : [\"Geographical Areas (Enumeration)\"],\n",
    "    \"name\" : \"Local Government Areas (2022 Boundaries) (EN)\",\n",
    "    \"level\" : \"LGA (EN)\",\n",
    "    \"add to\" : \"Filter\"\n",
    "}\n",
    "\n",
    "table = {\n",
    "    \"subdirs\" : [\"2021 Census of Population and Housing\", \"Census TableBuilder Pro\"],\n",
    "    \"name\" : \"2021 Census - counting persons, place of enumeration\",\n",
    "    \"saved\" : \"base_table\"\n",
    "}\n",
    "\n",
    "const_vars = {}"
   ]
  },
  {
   "cell_type": "code",
   "execution_count": 4,
   "metadata": {},
   "outputs": [],
   "source": [
    "states = [\"New South Wales\", \"Victoria\", \"Queensland\", \"South Australia\", \"Western Australia\", \"Tasmania\", \"Northern Territory\", \"Australian Capital Territory\"]\n",
    "\n",
    "spare = \"SEIFA Deciles (Population-based) WARNING: Population deciles must be used with same geography type\""
   ]
  },
  {
   "cell_type": "code",
   "execution_count": 5,
   "metadata": {},
   "outputs": [],
   "source": [
    "queued = []"
   ]
  },
  {
   "cell_type": "code",
   "execution_count": 6,
   "metadata": {},
   "outputs": [],
   "source": [
    "async def select_const_vars_pops(page):\n",
    "    subdirs = table[\"subdirs\"].copy()\n",
    "\n",
    "    for subdir in subdirs:\n",
    "        await page.locator(\"//*[contains(@class, 'treeNodeElement')]\", has = page.get_by_title(subdir, exact=True)).locator(\"//*[contains(@class, 'treeNodeExpander collapsed')]\").click()\n",
    "\n",
    "    await page.get_by_title(table[\"name\"]).click()\n",
    "\n",
    "    await page.get_by_title(table[\"saved\"]).dblclick()\n",
    "\n",
    "    return "
   ]
  },
  {
   "cell_type": "code",
   "execution_count": 8,
   "metadata": {},
   "outputs": [],
   "source": [
    "async def select_const_vars(page):\n",
    "    \n",
    "    pass_ = input(\"Press enter to continue\")\n",
    "\n",
    "    return"
   ]
  },
  {
   "cell_type": "code",
   "execution_count": 9,
   "metadata": {},
   "outputs": [],
   "source": [
    "async def scrape(playwright, lga):\n",
    "    browser = await playwright.chromium.launch(headless=False)\n",
    "    page = await browser.new_page()\n",
    "    await page.goto('https://tablebuilder.abs.gov.au/webapi/jsf/login.xhtml')\n",
    "\n",
    "    await page.get_by_label(\"User ID is a number:\").fill(os.getenv(\"ABS_TABLEBUILDER_USERNAME\"))\n",
    "    await page.get_by_label(\"Password:\").fill(os.getenv(\"ABS_TABLEBUILDER_PASSWORD\"))\n",
    "    await page.get_by_role(\"button\", name=\"Log in\").click()\n",
    "\n",
    "    await page.wait_for_load_state()\n",
    "\n",
    "    await select_const_vars(page)\n",
    "\n",
    "    #await page.wait_for_load_state(time)\n",
    "\n",
    "    await expect(page.locator(\"//*[contains(@id, 'showSchemaPane')]\", has = page.get_by_text(\"Collapse all\"))).to_be_visible(timeout=600_000)\n",
    "\n",
    "    await page.get_by_text(\"Collapse all\").click()\n",
    "\n",
    "    subdirs = iterable_var[\"subdirs\"].copy()\n",
    "\n",
    "    for subdir in subdirs:\n",
    "        await page.get_by_title(subdir).click()\n",
    "        await page.get_by_title(subdir).click()\n",
    "\n",
    "    await page.locator(\"//*[contains(@class, 'treeNodeElement')]\", has = page.get_by_title(iterable_var[\"name\"], exact=True)).locator(\"//*[contains(@class, 'treeNodeExpander collapsed')]\").click()\n",
    "    \n",
    "    for state in states:\n",
    "        await page.locator(\"//*[contains(@class, 'treeNodeElement')]\", has = page.get_by_title(state)).locator(\"//*[contains(@class, 'treeNodeExpander collapsed')]\").click()\n",
    "\n",
    "    await page.locator(\"//*[contains(@class, 'treeNodeElementBody')]\", has = page.get_by_title(lga)).locator(\"//*[contains(@type, 'checkbox')]\").check()\n",
    "\n",
    "    await page.get_by_title(button_titles[iterable_var[\"add to\"]]).click()\n",
    "\n",
    "    await page.wait_for_load_state()\n",
    "\n",
    "    await page.locator(\"//*[contains(@id, 'downloadControl:downloadLargeTableButton')]\").click()\n",
    "\n",
    "    await expect(page.locator(\"//*[contains(@id, 'downloadTableModePanel_shade')]\")).to_be_visible(timeout=600_000)\n",
    "\n",
    "    await page.locator(\"//*[contains(@id, 'downloadTableModeForm:downloadTableNameTxt')]\").fill(\"LGA_home_dynamics_{}\".format(lga))\n",
    "\n",
    "    await page.locator(\"//*[contains(@id, 'downloadTableModeForm:queueTableButton')]\", has = page.get_by_text(\"Queue table\")).click()\n",
    "    \n",
    "    await page.wait_for_load_state()\n"
   ]
  },
  {
   "cell_type": "code",
   "execution_count": 10,
   "metadata": {},
   "outputs": [
    {
     "ename": "CancelledError",
     "evalue": "",
     "output_type": "error",
     "traceback": [
      "\u001b[0;31m---------------------------------------------------------------------------\u001b[0m",
      "\u001b[0;31mCancelledError\u001b[0m                            Traceback (most recent call last)",
      "Cell \u001b[0;32mIn[10], line 10\u001b[0m\n\u001b[1;32m      7\u001b[0m playwright \u001b[38;5;241m=\u001b[39m \u001b[38;5;28;01mawait\u001b[39;00m async_playwright()\u001b[38;5;241m.\u001b[39mstart()\n\u001b[1;32m      9\u001b[0m \u001b[38;5;28;01mtry\u001b[39;00m:\n\u001b[0;32m---> 10\u001b[0m     \u001b[38;5;28;01mawait\u001b[39;00m scrape(playwright, lga)\n\u001b[1;32m     11\u001b[0m     queued\u001b[38;5;241m.\u001b[39mappend(lga)\n\u001b[1;32m     13\u001b[0m     \u001b[38;5;28mprint\u001b[39m(\u001b[38;5;124m\"\u001b[39m\u001b[38;5;124mQueued: \u001b[39m\u001b[38;5;132;01m{}\u001b[39;00m\u001b[38;5;124m\"\u001b[39m\u001b[38;5;241m.\u001b[39mformat(lga))\n",
      "Cell \u001b[0;32mIn[9], line 16\u001b[0m, in \u001b[0;36mscrape\u001b[0;34m(playwright, lga)\u001b[0m\n\u001b[1;32m     12\u001b[0m \u001b[38;5;28;01mawait\u001b[39;00m select_const_vars(page)\n\u001b[1;32m     14\u001b[0m \u001b[38;5;66;03m#await page.wait_for_load_state(time)\u001b[39;00m\n\u001b[0;32m---> 16\u001b[0m \u001b[38;5;28;01mawait\u001b[39;00m expect(page\u001b[38;5;241m.\u001b[39mlocator(\u001b[38;5;124m\"\u001b[39m\u001b[38;5;124m//*[contains(@id, \u001b[39m\u001b[38;5;124m'\u001b[39m\u001b[38;5;124mshowSchemaPane\u001b[39m\u001b[38;5;124m'\u001b[39m\u001b[38;5;124m)]\u001b[39m\u001b[38;5;124m\"\u001b[39m, has \u001b[38;5;241m=\u001b[39m page\u001b[38;5;241m.\u001b[39mget_by_text(\u001b[38;5;124m\"\u001b[39m\u001b[38;5;124mCollapse all\u001b[39m\u001b[38;5;124m\"\u001b[39m)))\u001b[38;5;241m.\u001b[39mto_be_visible(timeout\u001b[38;5;241m=\u001b[39m\u001b[38;5;241m600_000\u001b[39m)\n\u001b[1;32m     18\u001b[0m \u001b[38;5;28;01mawait\u001b[39;00m page\u001b[38;5;241m.\u001b[39mget_by_text(\u001b[38;5;124m\"\u001b[39m\u001b[38;5;124mCollapse all\u001b[39m\u001b[38;5;124m\"\u001b[39m)\u001b[38;5;241m.\u001b[39mclick()\n\u001b[1;32m     20\u001b[0m subdirs \u001b[38;5;241m=\u001b[39m iterable_var[\u001b[38;5;124m\"\u001b[39m\u001b[38;5;124msubdirs\u001b[39m\u001b[38;5;124m\"\u001b[39m]\u001b[38;5;241m.\u001b[39mcopy()\n",
      "    \u001b[0;31m[... skipping hidden 3 frame]\u001b[0m\n",
      "File \u001b[0;32m~/miniforge3/envs/web/lib/python3.13/site-packages/playwright/_impl/_locator.py:712\u001b[0m, in \u001b[0;36mLocator._expect\u001b[0;34m(self, expression, options)\u001b[0m\n\u001b[1;32m    710\u001b[0m \u001b[38;5;28;01mif\u001b[39;00m \u001b[38;5;124m\"\u001b[39m\u001b[38;5;124mexpectedValue\u001b[39m\u001b[38;5;124m\"\u001b[39m \u001b[38;5;129;01min\u001b[39;00m options:\n\u001b[1;32m    711\u001b[0m     options[\u001b[38;5;124m\"\u001b[39m\u001b[38;5;124mexpectedValue\u001b[39m\u001b[38;5;124m\"\u001b[39m] \u001b[38;5;241m=\u001b[39m serialize_argument(options[\u001b[38;5;124m\"\u001b[39m\u001b[38;5;124mexpectedValue\u001b[39m\u001b[38;5;124m\"\u001b[39m])\n\u001b[0;32m--> 712\u001b[0m result \u001b[38;5;241m=\u001b[39m \u001b[38;5;28;01mawait\u001b[39;00m \u001b[38;5;28mself\u001b[39m\u001b[38;5;241m.\u001b[39m_frame\u001b[38;5;241m.\u001b[39m_channel\u001b[38;5;241m.\u001b[39msend_return_as_dict(\n\u001b[1;32m    713\u001b[0m     \u001b[38;5;124m\"\u001b[39m\u001b[38;5;124mexpect\u001b[39m\u001b[38;5;124m\"\u001b[39m,\n\u001b[1;32m    714\u001b[0m     {\n\u001b[1;32m    715\u001b[0m         \u001b[38;5;124m\"\u001b[39m\u001b[38;5;124mselector\u001b[39m\u001b[38;5;124m\"\u001b[39m: \u001b[38;5;28mself\u001b[39m\u001b[38;5;241m.\u001b[39m_selector,\n\u001b[1;32m    716\u001b[0m         \u001b[38;5;124m\"\u001b[39m\u001b[38;5;124mexpression\u001b[39m\u001b[38;5;124m\"\u001b[39m: expression,\n\u001b[1;32m    717\u001b[0m         \u001b[38;5;241m*\u001b[39m\u001b[38;5;241m*\u001b[39moptions,\n\u001b[1;32m    718\u001b[0m     },\n\u001b[1;32m    719\u001b[0m )\n\u001b[1;32m    720\u001b[0m \u001b[38;5;28;01mif\u001b[39;00m result\u001b[38;5;241m.\u001b[39mget(\u001b[38;5;124m\"\u001b[39m\u001b[38;5;124mreceived\u001b[39m\u001b[38;5;124m\"\u001b[39m):\n\u001b[1;32m    721\u001b[0m     result[\u001b[38;5;124m\"\u001b[39m\u001b[38;5;124mreceived\u001b[39m\u001b[38;5;124m\"\u001b[39m] \u001b[38;5;241m=\u001b[39m parse_value(result[\u001b[38;5;124m\"\u001b[39m\u001b[38;5;124mreceived\u001b[39m\u001b[38;5;124m\"\u001b[39m])\n",
      "File \u001b[0;32m~/miniforge3/envs/web/lib/python3.13/site-packages/playwright/_impl/_connection.py:67\u001b[0m, in \u001b[0;36mChannel.send_return_as_dict\u001b[0;34m(self, method, params)\u001b[0m\n\u001b[1;32m     66\u001b[0m \u001b[38;5;28;01masync\u001b[39;00m \u001b[38;5;28;01mdef\u001b[39;00m \u001b[38;5;21msend_return_as_dict\u001b[39m(\u001b[38;5;28mself\u001b[39m, method: \u001b[38;5;28mstr\u001b[39m, params: Dict \u001b[38;5;241m=\u001b[39m \u001b[38;5;28;01mNone\u001b[39;00m) \u001b[38;5;241m-\u001b[39m\u001b[38;5;241m>\u001b[39m Any:\n\u001b[0;32m---> 67\u001b[0m     \u001b[38;5;28;01mreturn\u001b[39;00m \u001b[38;5;28;01mawait\u001b[39;00m \u001b[38;5;28mself\u001b[39m\u001b[38;5;241m.\u001b[39m_connection\u001b[38;5;241m.\u001b[39mwrap_api_call(\n\u001b[1;32m     68\u001b[0m         \u001b[38;5;28;01mlambda\u001b[39;00m: \u001b[38;5;28mself\u001b[39m\u001b[38;5;241m.\u001b[39m_inner_send(method, params, \u001b[38;5;28;01mTrue\u001b[39;00m),\n\u001b[1;32m     69\u001b[0m         \u001b[38;5;28mself\u001b[39m\u001b[38;5;241m.\u001b[39m_is_internal_type,\n\u001b[1;32m     70\u001b[0m     )\n",
      "File \u001b[0;32m~/miniforge3/envs/web/lib/python3.13/site-packages/playwright/_impl/_connection.py:526\u001b[0m, in \u001b[0;36mConnection.wrap_api_call\u001b[0;34m(self, cb, is_internal)\u001b[0m\n\u001b[1;32m    524\u001b[0m \u001b[38;5;28mself\u001b[39m\u001b[38;5;241m.\u001b[39m_api_zone\u001b[38;5;241m.\u001b[39mset(parsed_st)\n\u001b[1;32m    525\u001b[0m \u001b[38;5;28;01mtry\u001b[39;00m:\n\u001b[0;32m--> 526\u001b[0m     \u001b[38;5;28;01mreturn\u001b[39;00m \u001b[38;5;28;01mawait\u001b[39;00m cb()\n\u001b[1;32m    527\u001b[0m \u001b[38;5;28;01mexcept\u001b[39;00m \u001b[38;5;167;01mException\u001b[39;00m \u001b[38;5;28;01mas\u001b[39;00m error:\n\u001b[1;32m    528\u001b[0m     \u001b[38;5;28;01mraise\u001b[39;00m rewrite_error(error, \u001b[38;5;124mf\u001b[39m\u001b[38;5;124m\"\u001b[39m\u001b[38;5;132;01m{\u001b[39;00mparsed_st[\u001b[38;5;124m'\u001b[39m\u001b[38;5;124mapiName\u001b[39m\u001b[38;5;124m'\u001b[39m]\u001b[38;5;132;01m}\u001b[39;00m\u001b[38;5;124m: \u001b[39m\u001b[38;5;132;01m{\u001b[39;00merror\u001b[38;5;132;01m}\u001b[39;00m\u001b[38;5;124m\"\u001b[39m) \u001b[38;5;28;01mfrom\u001b[39;00m \u001b[38;5;28;01mNone\u001b[39;00m\n",
      "File \u001b[0;32m~/miniforge3/envs/web/lib/python3.13/site-packages/playwright/_impl/_connection.py:92\u001b[0m, in \u001b[0;36mChannel._inner_send\u001b[0;34m(self, method, params, return_as_dict)\u001b[0m\n\u001b[1;32m     88\u001b[0m     \u001b[38;5;28;01mraise\u001b[39;00m error\n\u001b[1;32m     89\u001b[0m callback \u001b[38;5;241m=\u001b[39m \u001b[38;5;28mself\u001b[39m\u001b[38;5;241m.\u001b[39m_connection\u001b[38;5;241m.\u001b[39m_send_message_to_server(\n\u001b[1;32m     90\u001b[0m     \u001b[38;5;28mself\u001b[39m\u001b[38;5;241m.\u001b[39m_object, method, _filter_none(params)\n\u001b[1;32m     91\u001b[0m )\n\u001b[0;32m---> 92\u001b[0m done, _ \u001b[38;5;241m=\u001b[39m \u001b[38;5;28;01mawait\u001b[39;00m asyncio\u001b[38;5;241m.\u001b[39mwait(\n\u001b[1;32m     93\u001b[0m     {\n\u001b[1;32m     94\u001b[0m         \u001b[38;5;28mself\u001b[39m\u001b[38;5;241m.\u001b[39m_connection\u001b[38;5;241m.\u001b[39m_transport\u001b[38;5;241m.\u001b[39mon_error_future,\n\u001b[1;32m     95\u001b[0m         callback\u001b[38;5;241m.\u001b[39mfuture,\n\u001b[1;32m     96\u001b[0m     },\n\u001b[1;32m     97\u001b[0m     return_when\u001b[38;5;241m=\u001b[39masyncio\u001b[38;5;241m.\u001b[39mFIRST_COMPLETED,\n\u001b[1;32m     98\u001b[0m )\n\u001b[1;32m     99\u001b[0m \u001b[38;5;28;01mif\u001b[39;00m \u001b[38;5;129;01mnot\u001b[39;00m callback\u001b[38;5;241m.\u001b[39mfuture\u001b[38;5;241m.\u001b[39mdone():\n\u001b[1;32m    100\u001b[0m     callback\u001b[38;5;241m.\u001b[39mfuture\u001b[38;5;241m.\u001b[39mcancel()\n",
      "File \u001b[0;32m~/miniforge3/envs/web/lib/python3.13/asyncio/tasks.py:451\u001b[0m, in \u001b[0;36mwait\u001b[0;34m(fs, timeout, return_when)\u001b[0m\n\u001b[1;32m    448\u001b[0m     \u001b[38;5;28;01mraise\u001b[39;00m \u001b[38;5;167;01mTypeError\u001b[39;00m(\u001b[38;5;124m\"\u001b[39m\u001b[38;5;124mPassing coroutines is forbidden, use tasks explicitly.\u001b[39m\u001b[38;5;124m\"\u001b[39m)\n\u001b[1;32m    450\u001b[0m loop \u001b[38;5;241m=\u001b[39m events\u001b[38;5;241m.\u001b[39mget_running_loop()\n\u001b[0;32m--> 451\u001b[0m \u001b[38;5;28;01mreturn\u001b[39;00m \u001b[38;5;28;01mawait\u001b[39;00m _wait(fs, timeout, return_when, loop)\n",
      "File \u001b[0;32m~/miniforge3/envs/web/lib/python3.13/asyncio/tasks.py:537\u001b[0m, in \u001b[0;36m_wait\u001b[0;34m(fs, timeout, return_when, loop)\u001b[0m\n\u001b[1;32m    534\u001b[0m     f\u001b[38;5;241m.\u001b[39madd_done_callback(_on_completion)\n\u001b[1;32m    536\u001b[0m \u001b[38;5;28;01mtry\u001b[39;00m:\n\u001b[0;32m--> 537\u001b[0m     \u001b[38;5;28;01mawait\u001b[39;00m waiter\n\u001b[1;32m    538\u001b[0m \u001b[38;5;28;01mfinally\u001b[39;00m:\n\u001b[1;32m    539\u001b[0m     \u001b[38;5;28;01mif\u001b[39;00m timeout_handle \u001b[38;5;129;01mis\u001b[39;00m \u001b[38;5;129;01mnot\u001b[39;00m \u001b[38;5;28;01mNone\u001b[39;00m:\n",
      "\u001b[0;31mCancelledError\u001b[0m: "
     ]
    }
   ],
   "source": [
    "#while len(queued) != 556:\n",
    "lga = random.choice(lgas)\n",
    "\n",
    "#if lga in queued:\n",
    "    #continue\n",
    "\n",
    "playwright = await async_playwright().start()\n",
    "\n",
    "try:\n",
    "    await scrape(playwright, lga)\n",
    "    queued.append(lga)\n",
    "\n",
    "    print(\"Queued: {}\".format(lga))\n",
    "\n",
    "    await playwright.stop()\n",
    "except Exception as e:\n",
    "    print(\"Failed: {}\".format(lga))\n",
    "    print(e)\n",
    "    time.sleep(5) \n",
    "\n",
    "    await playwright.stop()"
   ]
  },
  {
   "cell_type": "code",
   "execution_count": null,
   "metadata": {},
   "outputs": [],
   "source": []
  }
 ],
 "metadata": {
  "kernelspec": {
   "display_name": "web",
   "language": "python",
   "name": "python3"
  },
  "language_info": {
   "codemirror_mode": {
    "name": "ipython",
    "version": 3
   },
   "file_extension": ".py",
   "mimetype": "text/x-python",
   "name": "python",
   "nbconvert_exporter": "python",
   "pygments_lexer": "ipython3",
   "version": "3.13.0"
  }
 },
 "nbformat": 4,
 "nbformat_minor": 2
}
