{
 "cells": [
  {
   "cell_type": "code",
   "execution_count": 49,
   "metadata": {},
   "outputs": [
    {
     "data": {
      "text/plain": [
       "True"
      ]
     },
     "execution_count": 49,
     "metadata": {},
     "output_type": "execute_result"
    }
   ],
   "source": [
    "import asyncio\n",
    "from playwright.async_api import async_playwright, expect\n",
    "import time\n",
    "\n",
    "import os\n",
    "from dotenv import load_dotenv\n",
    "\n",
    "load_dotenv()"
   ]
  },
  {
   "cell_type": "code",
   "execution_count": 50,
   "metadata": {},
   "outputs": [],
   "source": [
    "import pandas as pd\n",
    "\n",
    "df = pd.read_csv(\"../Data/LGAs.csv\")\n",
    "\n",
    "lgas = df[\"LGA (EN)\"].tolist()"
   ]
  },
  {
   "cell_type": "code",
   "execution_count": 51,
   "metadata": {},
   "outputs": [],
   "source": [
    "button_titles = {\n",
    "    \"Row\" : \"Add selected items to the table row\",\n",
    "    \"Column\" : \"Add selected items to the table column\",\n",
    "    \"Wafer\": \"Add selected items to the table wafer\",\n",
    "    \"Filter\": \"Add selected items to the table filter\"\n",
    "}"
   ]
  },
  {
   "cell_type": "code",
   "execution_count": 52,
   "metadata": {},
   "outputs": [],
   "source": [
    "playwright = await async_playwright().start()\n",
    "browser = await playwright.chromium.launch(headless=False)\n",
    "page = await browser.new_page()\n",
    "await page.goto('https://tablebuilder.abs.gov.au/webapi/jsf/login.xhtml')\n",
    "\n",
    "await page.get_by_label(\"User ID is a number:\").fill(os.getenv(\"ABS_TABLEBUILDER_USERNAME\"))\n",
    "await page.get_by_label(\"Password:\").fill(os.getenv(\"ABS_TABLEBUILDER_PASSWORD\"))\n",
    "await page.get_by_role(\"button\", name=\"Log in\").click()\n",
    "\n",
    "#await page.locator(\"//*[contains(@class, 'treeNodeElement')]\", has = page.get_by_title(_dataset)).locator(\"//*[contains(@class, 'treeNodeExpander collapsed')]\").click()\n",
    "#await page.get_by_title(_table).dblclick()\n",
    "\n",
    "#await page.wait_for_load_state()\n",
    "\n",
    "\n",
    "#|//*[contains(@class, 'treeNodeExpander expanded')]"
   ]
  },
  {
   "cell_type": "markdown",
   "metadata": {},
   "source": [
    "### Pause and select table"
   ]
  },
  {
   "cell_type": "code",
   "execution_count": 53,
   "metadata": {},
   "outputs": [],
   "source": [
    "iterable_var = {\n",
    "    \"subdirs\" : [\"Geographical Areas (Enumeration)\"],\n",
    "    \"name\" : \"Local Government Areas (2022 Boundaries) (EN)\",\n",
    "    \"level\" : \"LGA (EN)\",\n",
    "    \"add to\" : \"Filter\"\n",
    "}"
   ]
  },
  {
   "cell_type": "code",
   "execution_count": 7,
   "metadata": {},
   "outputs": [],
   "source": [
    "await page.get_by_text(\"Collapse all\").click()\n",
    "\n",
    "subdirs = iterable_var[\"subdirs\"].copy()\n",
    "\n",
    "for subdir in subdirs:\n",
    "    await page.get_by_title(subdir).click()\n",
    "    await page.get_by_title(subdir).click()\n",
    "    #await page.locator(\"//*[contains(@class, 'treeNodeElement')]\", has = page.get_by_title(subdir)).locator(\"//*[contains(@class, 'treeNodeExpander collapsed')]\").click()\n",
    "    #await page.locator(\"//*[contains(@class, 'treeNodeElement')]\", has = page.get_by_title(subdir)).locator(\"//*[contains(@class, 'treeNodeExpander collapsed')]\").click()"
   ]
  },
  {
   "cell_type": "code",
   "execution_count": 10,
   "metadata": {},
   "outputs": [],
   "source": [
    "#await page.locator(\"//*[contains(@class, 'treeNodeElement')]\", has = page.get_by_title(iterable_var[\"name\"], exact=True)).locator(\"//*[contains(@class, 'treeNodeExpander collapsed')]\").click()\n",
    "#await page.locator(\"//*[contains(@class, 'treeNodeElement')]\", has = page.get_by_title(iterable_var[\"name\"], exact=True)).locator(\"//*[contains(@class, 'treeNodeExpander collapsed')]\").click()"
   ]
  },
  {
   "cell_type": "code",
   "execution_count": 11,
   "metadata": {},
   "outputs": [],
   "source": [
    "await page.locator(\"//*[contains(@class, 'treeNodeElement')]\", has = page.get_by_title(iterable_var[\"name\"], exact=True)).locator(\"//*[contains(@class, 'treeNodeExpander collapsed')]\").click()"
   ]
  },
  {
   "cell_type": "code",
   "execution_count": 54,
   "metadata": {},
   "outputs": [],
   "source": [
    "lga0 = [lgas[0]]"
   ]
  },
  {
   "cell_type": "code",
   "execution_count": 55,
   "metadata": {},
   "outputs": [],
   "source": [
    "states = [\"New South Wales\", \"Victoria\", \"Queensland\", \"South Australia\", \"Western Australia\", \"Tasmania\", \"Northern Territory\", \"Australian Capital Territory\"]"
   ]
  },
  {
   "cell_type": "code",
   "execution_count": 60,
   "metadata": {},
   "outputs": [
    {
     "data": {
      "text/plain": [
       "<Locator frame=<Frame name= url='https://tablebuilder.abs.gov.au/webapi/jsf/tableView/tableView.xhtml'> selector=\"//*[contains(@class, 'fl-fill fl-col rightPane')]\">"
      ]
     },
     "execution_count": 60,
     "metadata": {},
     "output_type": "execute_result"
    }
   ],
   "source": [
    "page.locator(\"//*[contains(@class, 'fl-fill fl-col rightPane')]\")"
   ]
  },
  {
   "cell_type": "code",
   "execution_count": 64,
   "metadata": {},
   "outputs": [
    {
     "ename": "Error",
     "evalue": "LocatorAssertions.not_to_be_editable: Error: strict mode violation: get_by_title(\"Search\") resolved to 3 elements:\n    1) <input value=\"\" accesskey=\"\" type=\"submit\" tabindex=\"-1\" title=\"Search\" class=\"searchButton\" id=\"headerSearchForm:searchButton\" name=\"headerSearchForm:searchButton\"/> aka get_by_role(\"button\", name=\"Submit\")\n    2) <form method=\"post\" title=\"Search\" id=\"searchForm\" name=\"searchForm\" class=\"searchPanel\" enctype=\"application/x-www-form-urlencoded\" action=\"/webapi/jsf/tableView/tableView.xhtml\">…</form> aka get_by_label(\"Main application\").get_by_title(\"Search\", exact=True)\n    3) <input type=\"image\" accesskey=\"\" tabindex=\"-1\" id=\"searchButton\" alt=\"Search tree\" name=\"searchButton\" title=\"Search tree\" class=\"activeButton\" src=\"/webapi/images/material/ic_filter_list_white.svg\" onclick=\"RichFaces.ajax(\"searchButton\",event,{\"incId\":\"1\",\"begin\":\"SW2.schemaTree.showSearchStatus(); SW2.schemaTree.disableSearchCriteria();\"} );return false;\"/> aka get_by_role(\"button\", name=\"Search tree\")\n\nCall log:\n  - LocatorAssertions.not_to_be_editable with timeout 5000ms\n  -   - waiting for get_by_title(\"Search\")\n",
     "output_type": "error",
     "traceback": [
      "\u001b[0;31m---------------------------------------------------------------------------\u001b[0m",
      "\u001b[0;31mError\u001b[0m                                     Traceback (most recent call last)",
      "Cell \u001b[0;32mIn[64], line 25\u001b[0m\n\u001b[1;32m     21\u001b[0m \u001b[38;5;28;01mawait\u001b[39;00m page\u001b[38;5;241m.\u001b[39mlocator(\u001b[38;5;124m\"\u001b[39m\u001b[38;5;124m//*[contains(@class, \u001b[39m\u001b[38;5;124m'\u001b[39m\u001b[38;5;124mdownloadButton activeButton\u001b[39m\u001b[38;5;124m'\u001b[39m\u001b[38;5;124m)]\u001b[39m\u001b[38;5;124m\"\u001b[39m)\u001b[38;5;241m.\u001b[39mclick()\n\u001b[1;32m     23\u001b[0m \u001b[38;5;66;03m#await page.wait_for_event()\u001b[39;00m\n\u001b[0;32m---> 25\u001b[0m \u001b[38;5;28;01mawait\u001b[39;00m expect(page\u001b[38;5;241m.\u001b[39mget_by_title(\u001b[38;5;124m\"\u001b[39m\u001b[38;5;124mSearch\u001b[39m\u001b[38;5;124m\"\u001b[39m))\u001b[38;5;241m.\u001b[39mnot_to_be_editable()\n\u001b[1;32m     27\u001b[0m \u001b[38;5;28;01mawait\u001b[39;00m page\u001b[38;5;241m.\u001b[39mlocator(\u001b[38;5;124m\"\u001b[39m\u001b[38;5;124m//*[contains(@class, \u001b[39m\u001b[38;5;124m'\u001b[39m\u001b[38;5;124mactiveTextField\u001b[39m\u001b[38;5;124m'\u001b[39m\u001b[38;5;124m)]\u001b[39m\u001b[38;5;124m\"\u001b[39m)\u001b[38;5;241m.\u001b[39mfill(\u001b[38;5;124m\"\u001b[39m\u001b[38;5;124mLGA_\u001b[39m\u001b[38;5;132;01m{}\u001b[39;00m\u001b[38;5;124m\"\u001b[39m\u001b[38;5;241m.\u001b[39mformat(lga))\n\u001b[1;32m     29\u001b[0m \u001b[38;5;28;01mawait\u001b[39;00m page\u001b[38;5;241m.\u001b[39mlocator(\u001b[38;5;124m\"\u001b[39m\u001b[38;5;124m//*[contains(@class, \u001b[39m\u001b[38;5;124m'\u001b[39m\u001b[38;5;124mactiveButton\u001b[39m\u001b[38;5;124m'\u001b[39m\u001b[38;5;124m)]\u001b[39m\u001b[38;5;124m\"\u001b[39m, has \u001b[38;5;241m=\u001b[39m page\u001b[38;5;241m.\u001b[39mget_by_text(\u001b[38;5;124m\"\u001b[39m\u001b[38;5;124mQueue table\u001b[39m\u001b[38;5;124m\"\u001b[39m))\u001b[38;5;241m.\u001b[39mclick()\n",
      "    \u001b[0;31m[... skipping hidden 4 frame]\u001b[0m\n",
      "File \u001b[0;32m~/miniforge3/envs/web/lib/python3.13/site-packages/playwright/_impl/_locator.py:712\u001b[0m, in \u001b[0;36mLocator._expect\u001b[0;34m(self, expression, options)\u001b[0m\n\u001b[1;32m    710\u001b[0m \u001b[38;5;28;01mif\u001b[39;00m \u001b[38;5;124m\"\u001b[39m\u001b[38;5;124mexpectedValue\u001b[39m\u001b[38;5;124m\"\u001b[39m \u001b[38;5;129;01min\u001b[39;00m options:\n\u001b[1;32m    711\u001b[0m     options[\u001b[38;5;124m\"\u001b[39m\u001b[38;5;124mexpectedValue\u001b[39m\u001b[38;5;124m\"\u001b[39m] \u001b[38;5;241m=\u001b[39m serialize_argument(options[\u001b[38;5;124m\"\u001b[39m\u001b[38;5;124mexpectedValue\u001b[39m\u001b[38;5;124m\"\u001b[39m])\n\u001b[0;32m--> 712\u001b[0m result \u001b[38;5;241m=\u001b[39m \u001b[38;5;28;01mawait\u001b[39;00m \u001b[38;5;28mself\u001b[39m\u001b[38;5;241m.\u001b[39m_frame\u001b[38;5;241m.\u001b[39m_channel\u001b[38;5;241m.\u001b[39msend_return_as_dict(\n\u001b[1;32m    713\u001b[0m     \u001b[38;5;124m\"\u001b[39m\u001b[38;5;124mexpect\u001b[39m\u001b[38;5;124m\"\u001b[39m,\n\u001b[1;32m    714\u001b[0m     {\n\u001b[1;32m    715\u001b[0m         \u001b[38;5;124m\"\u001b[39m\u001b[38;5;124mselector\u001b[39m\u001b[38;5;124m\"\u001b[39m: \u001b[38;5;28mself\u001b[39m\u001b[38;5;241m.\u001b[39m_selector,\n\u001b[1;32m    716\u001b[0m         \u001b[38;5;124m\"\u001b[39m\u001b[38;5;124mexpression\u001b[39m\u001b[38;5;124m\"\u001b[39m: expression,\n\u001b[1;32m    717\u001b[0m         \u001b[38;5;241m*\u001b[39m\u001b[38;5;241m*\u001b[39moptions,\n\u001b[1;32m    718\u001b[0m     },\n\u001b[1;32m    719\u001b[0m )\n\u001b[1;32m    720\u001b[0m \u001b[38;5;28;01mif\u001b[39;00m result\u001b[38;5;241m.\u001b[39mget(\u001b[38;5;124m\"\u001b[39m\u001b[38;5;124mreceived\u001b[39m\u001b[38;5;124m\"\u001b[39m):\n\u001b[1;32m    721\u001b[0m     result[\u001b[38;5;124m\"\u001b[39m\u001b[38;5;124mreceived\u001b[39m\u001b[38;5;124m\"\u001b[39m] \u001b[38;5;241m=\u001b[39m parse_value(result[\u001b[38;5;124m\"\u001b[39m\u001b[38;5;124mreceived\u001b[39m\u001b[38;5;124m\"\u001b[39m])\n",
      "File \u001b[0;32m~/miniforge3/envs/web/lib/python3.13/site-packages/playwright/_impl/_connection.py:67\u001b[0m, in \u001b[0;36mChannel.send_return_as_dict\u001b[0;34m(self, method, params)\u001b[0m\n\u001b[1;32m     66\u001b[0m \u001b[38;5;28;01masync\u001b[39;00m \u001b[38;5;28;01mdef\u001b[39;00m \u001b[38;5;21msend_return_as_dict\u001b[39m(\u001b[38;5;28mself\u001b[39m, method: \u001b[38;5;28mstr\u001b[39m, params: Dict \u001b[38;5;241m=\u001b[39m \u001b[38;5;28;01mNone\u001b[39;00m) \u001b[38;5;241m-\u001b[39m\u001b[38;5;241m>\u001b[39m Any:\n\u001b[0;32m---> 67\u001b[0m     \u001b[38;5;28;01mreturn\u001b[39;00m \u001b[38;5;28;01mawait\u001b[39;00m \u001b[38;5;28mself\u001b[39m\u001b[38;5;241m.\u001b[39m_connection\u001b[38;5;241m.\u001b[39mwrap_api_call(\n\u001b[1;32m     68\u001b[0m         \u001b[38;5;28;01mlambda\u001b[39;00m: \u001b[38;5;28mself\u001b[39m\u001b[38;5;241m.\u001b[39m_inner_send(method, params, \u001b[38;5;28;01mTrue\u001b[39;00m),\n\u001b[1;32m     69\u001b[0m         \u001b[38;5;28mself\u001b[39m\u001b[38;5;241m.\u001b[39m_is_internal_type,\n\u001b[1;32m     70\u001b[0m     )\n",
      "File \u001b[0;32m~/miniforge3/envs/web/lib/python3.13/site-packages/playwright/_impl/_connection.py:528\u001b[0m, in \u001b[0;36mConnection.wrap_api_call\u001b[0;34m(self, cb, is_internal)\u001b[0m\n\u001b[1;32m    526\u001b[0m     \u001b[38;5;28;01mreturn\u001b[39;00m \u001b[38;5;28;01mawait\u001b[39;00m cb()\n\u001b[1;32m    527\u001b[0m \u001b[38;5;28;01mexcept\u001b[39;00m \u001b[38;5;167;01mException\u001b[39;00m \u001b[38;5;28;01mas\u001b[39;00m error:\n\u001b[0;32m--> 528\u001b[0m     \u001b[38;5;28;01mraise\u001b[39;00m rewrite_error(error, \u001b[38;5;124mf\u001b[39m\u001b[38;5;124m\"\u001b[39m\u001b[38;5;132;01m{\u001b[39;00mparsed_st[\u001b[38;5;124m'\u001b[39m\u001b[38;5;124mapiName\u001b[39m\u001b[38;5;124m'\u001b[39m]\u001b[38;5;132;01m}\u001b[39;00m\u001b[38;5;124m: \u001b[39m\u001b[38;5;132;01m{\u001b[39;00merror\u001b[38;5;132;01m}\u001b[39;00m\u001b[38;5;124m\"\u001b[39m) \u001b[38;5;28;01mfrom\u001b[39;00m \u001b[38;5;28;01mNone\u001b[39;00m\n\u001b[1;32m    529\u001b[0m \u001b[38;5;28;01mfinally\u001b[39;00m:\n\u001b[1;32m    530\u001b[0m     \u001b[38;5;28mself\u001b[39m\u001b[38;5;241m.\u001b[39m_api_zone\u001b[38;5;241m.\u001b[39mset(\u001b[38;5;28;01mNone\u001b[39;00m)\n",
      "\u001b[0;31mError\u001b[0m: LocatorAssertions.not_to_be_editable: Error: strict mode violation: get_by_title(\"Search\") resolved to 3 elements:\n    1) <input value=\"\" accesskey=\"\" type=\"submit\" tabindex=\"-1\" title=\"Search\" class=\"searchButton\" id=\"headerSearchForm:searchButton\" name=\"headerSearchForm:searchButton\"/> aka get_by_role(\"button\", name=\"Submit\")\n    2) <form method=\"post\" title=\"Search\" id=\"searchForm\" name=\"searchForm\" class=\"searchPanel\" enctype=\"application/x-www-form-urlencoded\" action=\"/webapi/jsf/tableView/tableView.xhtml\">…</form> aka get_by_label(\"Main application\").get_by_title(\"Search\", exact=True)\n    3) <input type=\"image\" accesskey=\"\" tabindex=\"-1\" id=\"searchButton\" alt=\"Search tree\" name=\"searchButton\" title=\"Search tree\" class=\"activeButton\" src=\"/webapi/images/material/ic_filter_list_white.svg\" onclick=\"RichFaces.ajax(\"searchButton\",event,{\"incId\":\"1\",\"begin\":\"SW2.schemaTree.showSearchStatus(); SW2.schemaTree.disableSearchCriteria();\"} );return false;\"/> aka get_by_role(\"button\", name=\"Search tree\")\n\nCall log:\n  - LocatorAssertions.not_to_be_editable with timeout 5000ms\n  -   - waiting for get_by_title(\"Search\")\n"
     ]
    }
   ],
   "source": [
    "for lga in lga0:\n",
    "    await page.get_by_text(\"Collapse all\").click()\n",
    "\n",
    "    subdirs = iterable_var[\"subdirs\"].copy()\n",
    "\n",
    "    for subdir in subdirs:\n",
    "        await page.get_by_title(subdir).click()\n",
    "        await page.get_by_title(subdir).click()\n",
    "\n",
    "    await page.locator(\"//*[contains(@class, 'treeNodeElement')]\", has = page.get_by_title(iterable_var[\"name\"], exact=True)).locator(\"//*[contains(@class, 'treeNodeExpander collapsed')]\").click()\n",
    "    \n",
    "    for state in states:\n",
    "        await page.locator(\"//*[contains(@class, 'treeNodeElement')]\", has = page.get_by_title(state)).locator(\"//*[contains(@class, 'treeNodeExpander collapsed')]\").click()\n",
    "\n",
    "    await page.locator(\"//*[contains(@class, 'treeNodeElementBody')]\", has = page.get_by_title(lga)).locator(\"//*[contains(@type, 'checkbox')]\").check()\n",
    "\n",
    "    await page.get_by_title(button_titles[iterable_var[\"add to\"]]).click()\n",
    "\n",
    "    await page.wait_for_load_state()\n",
    "\n",
    "    await page.locator(\"//*[contains(@class, 'downloadButton activeButton')]\").click()\n",
    "\n",
    "    #await page.wait_for_event()\n",
    "\n",
    "    await expect(page.get_by_title(\"Search\")).not_to_be_editable()\n",
    "\n",
    "    await page.locator(\"//*[contains(@class, 'activeTextField')]\").fill(\"LGA_{}\".format(lga))\n",
    "\n",
    "    await page.locator(\"//*[contains(@class, 'activeButton')]\", has = page.get_by_text(\"Queue table\")).click()\n",
    "    \n",
    "    await page.locator(\"//*[contains(@class, 'treeNodeElementBody')]\", has = page.get_by_title(lga)).locator(\"//*[contains(@type, 'checkbox')]\").uncheck()\n",
    "\n",
    "    for state in states:\n",
    "        await page.locator(\"//*[contains(@class, 'treeNodeElement')]\", has = page.get_by_title(state)).locator(\"//*[contains(@class, 'treeNodeExpander expanded')]\").click()\n",
    "\n",
    "    await page.get_by_text(\"Collapse all\").click()"
   ]
  },
  {
   "cell_type": "code",
   "execution_count": 164,
   "metadata": {},
   "outputs": [],
   "source": [
    "await page.locator(\"//*[contains(@class, 'treeNodeElementBody')]\", has = page.get_by_title(\"Albury\")).locator(\"//*[contains(@type, 'checkbox')]\").uncheck()"
   ]
  },
  {
   "cell_type": "code",
   "execution_count": null,
   "metadata": {},
   "outputs": [],
   "source": []
  },
  {
   "cell_type": "code",
   "execution_count": null,
   "metadata": {},
   "outputs": [],
   "source": []
  }
 ],
 "metadata": {
  "kernelspec": {
   "display_name": "web",
   "language": "python",
   "name": "python3"
  },
  "language_info": {
   "codemirror_mode": {
    "name": "ipython",
    "version": 3
   },
   "file_extension": ".py",
   "mimetype": "text/x-python",
   "name": "python",
   "nbconvert_exporter": "python",
   "pygments_lexer": "ipython3",
   "version": "3.13.0"
  }
 },
 "nbformat": 4,
 "nbformat_minor": 2
}
